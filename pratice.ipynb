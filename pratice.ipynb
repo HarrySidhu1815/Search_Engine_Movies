{
 "cells": [
  {
   "cell_type": "code",
   "execution_count": 41,
   "metadata": {},
   "outputs": [],
   "source": [
    "import pandas as pd"
   ]
  },
  {
   "cell_type": "code",
   "execution_count": 42,
   "metadata": {},
   "outputs": [
    {
     "name": "stdout",
     "output_type": "stream",
     "text": [
      "[{'movie', 'tv'}]\n",
      "[1913.0, 1917.0, 1918.0, 1919.0, 1920.0, 1921.0, 1923.0, 1926.0, 1928.0, 1929.0, 1930.0, 1931.0, 1932.0, 1933.0, 1934.0, 1935.0, 1936.0, 1937.0, 1938.0, 1939.0, 1940.0, 1941.0, 1942.0, 1943.0, 1944.0, 1945.0, 1946.0, 1947.0, 1948.0, 1949.0, 1950.0, 1951.0, 1952.0, 1953.0, 1954.0, 1955.0, 1956.0, 1957.0, 1958.0, 1959.0, 1960.0, 1961.0, 1962.0, 1963.0, 1964.0, 1965.0, 1966.0, 1967.0, 1968.0, 1969.0, 1970.0, 1971.0, 1972.0, 1973.0, 1974.0, 1975.0, 1976.0, 1977.0, 1978.0, 1979.0, 1980.0, 1981.0, 1982.0, 1983.0, 1984.0, 1985.0, 1986.0, 1987.0, 1988.0, 1989.0, 1990.0, 1991.0, 1992.0, 1993.0, 1994.0, 1995.0, 1996.0, 1997.0, 1998.0, 1999.0, 2000.0, 2001.0, 2002.0, 2003.0, 2004.0, 2005.0, 2006.0, 2007.0, 2008.0, 2009.0, 2010.0, 2011.0, 2012.0, 2013.0, 2014.0, 2015.0, 2016.0, 2017.0, 2018.0, 2019.0, 2020.0, 2021.0, 2022.0, 2023.0, 2024.0]\n",
      "{'War & Politics', 'Horror', 'Thriller', 'Musical', 'Soap', 'Reality', 'Fantasy', 'Kids', 'TV Movie', 'Science Fiction', 'Documentary', 'Animation', 'Western', 'Drama', 'Short', 'Family', 'Reality-TV', 'Film-Noir', 'Sci-Fi', 'Talk', 'Sci-Fi & Fantasy', 'Game-Show', 'Mystery', 'History', 'War', 'Comedy', 'News', 'Action & Adventure', 'Action', 'Biography', 'Crime', 'Talk-Show', 'Adventure', 'Romance', 'Sport', 'Music'}\n",
      "{1.9000000000000001, 2.5, 3.4, 3.7, 5.5, 6.5, 7.1, 7.7, 7.5, 7.0, 8.8, 8.2, 8.3, 7.6, 8.0, 7.4, 8.1, 9.0, 3.5, 3.0, 4.5, 4.0, 5.0, 6.0, 8.5, 9.5, 2.0, 1.4, 2.9, 2.4, 3.9, 4.9, 4.4, 5.9, 5.4, 6.4, 6.9, 7.9, 8.4, 8.9, 9.4, 2.8, 2.3, 3.8, 3.3, 4.8, 4.3, 1.8, 5.8, 5.3, 6.3, 6.8, 7.8, 7.3, 8.7, 9.2, 9.3, 1.2, 1.7, 2.7, 2.2, 3.2, 4.7, 4.2, 5.7, 5.2, 6.7, 6.2, 7.2, 4.6, 4.1, 5.6, 5.1, 6.1, 6.6, 8.6, 2.6, 9.1, 3.6, 3.1}\n"
     ]
    }
   ],
   "source": [
    "df = pd.read_json('Movie_Data.movies.json')\n",
    "\n",
    "colomns_to_extract = ['type', 'genres', 'releaseYear', 'imdbAverageRating']\n",
    "\n",
    "unique_values = {column: df[column].unique().tolist() for column in colomns_to_extract if column in df.columns}\n",
    "\n",
    "\n",
    "all_genres = [genre.strip() for genres in df['genres'].dropna() for genre in genres.split(',')]\n",
    "unique_genres = set(all_genres)\n",
    "\n",
    "unique_type = [set([movie_type for movie_type in df['type']])]\n",
    "\n",
    "unique_date = set([releaseYear for releaseYear in df['releaseYear'].dropna()])\n",
    "unique_date = [releaseYear for releaseYear in unique_date]\n",
    "\n",
    "unique_rating = set([releaseYear for releaseYear in df['imdbAverageRating'].dropna()])\n",
    "\n",
    "print(unique_type)\n",
    "print(unique_date)\n",
    "print(unique_genres)\n",
    "print(unique_rating)\n",
    "\n"
   ]
  }
 ],
 "metadata": {
  "kernelspec": {
   "display_name": "Python 3",
   "language": "python",
   "name": "python3"
  },
  "language_info": {
   "codemirror_mode": {
    "name": "ipython",
    "version": 3
   },
   "file_extension": ".py",
   "mimetype": "text/x-python",
   "name": "python",
   "nbconvert_exporter": "python",
   "pygments_lexer": "ipython3",
   "version": "3.12.0"
  }
 },
 "nbformat": 4,
 "nbformat_minor": 2
}
